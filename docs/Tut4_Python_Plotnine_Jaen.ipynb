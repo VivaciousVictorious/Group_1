{
 "cells": [
  {
   "cell_type": "markdown",
   "id": "5bb5ee67-621b-435d-b406-c6378de219f6",
   "metadata": {},
   "source": [
    "# Plotline Tutorial: Understanding the Grammar of Graphics "
   ]
  },
  {
   "cell_type": "markdown",
   "id": "14c984cd-b9f3-418a-ba7c-1114dad8b44e",
   "metadata": {},
   "source": [
    "## 1. Introduction to Plotnine\n",
    "plotnine is a data visualization package for Python based on the Grammar of Graphics, which is a system for understanding and building plots. \n",
    "The grammar describes how plots are constructed by combining data, aesthetic mappings, geometric objects, and other components.\n",
    "\n",
    "To begin, you’ll need to install the plotnine package if you don’t have it installed:"
   ]
  },
  {
   "cell_type": "code",
   "execution_count": 2,
   "id": "5965d0b2-c410-4094-b106-6c4012865e4c",
   "metadata": {},
   "outputs": [
    {
     "name": "stdout",
     "output_type": "stream",
     "text": [
      "Requirement already satisfied: plotnine in c:\\users\\bjaen\\venv477\\lib\\site-packages (0.13.6)Note: you may need to restart the kernel to use updated packages.\n",
      "\n",
      "Requirement already satisfied: matplotlib>=3.7.0 in c:\\users\\bjaen\\venv477\\lib\\site-packages (from plotnine) (3.9.2)\n",
      "Requirement already satisfied: pandas<3.0.0,>=2.1.0 in c:\\users\\bjaen\\venv477\\lib\\site-packages (from plotnine) (2.2.2)\n",
      "Requirement already satisfied: mizani~=0.11.0 in c:\\users\\bjaen\\venv477\\lib\\site-packages (from plotnine) (0.11.4)\n",
      "Requirement already satisfied: numpy>=1.23.0 in c:\\users\\bjaen\\venv477\\lib\\site-packages (from plotnine) (2.1.1)\n",
      "Requirement already satisfied: scipy>=1.7.0 in c:\\users\\bjaen\\venv477\\lib\\site-packages (from plotnine) (1.14.1)\n",
      "Requirement already satisfied: statsmodels>=0.14.0 in c:\\users\\bjaen\\venv477\\lib\\site-packages (from plotnine) (0.14.3)\n",
      "Requirement already satisfied: contourpy>=1.0.1 in c:\\users\\bjaen\\venv477\\lib\\site-packages (from matplotlib>=3.7.0->plotnine) (1.3.0)\n",
      "Requirement already satisfied: cycler>=0.10 in c:\\users\\bjaen\\venv477\\lib\\site-packages (from matplotlib>=3.7.0->plotnine) (0.12.1)\n",
      "Requirement already satisfied: fonttools>=4.22.0 in c:\\users\\bjaen\\venv477\\lib\\site-packages (from matplotlib>=3.7.0->plotnine) (4.53.1)\n",
      "Requirement already satisfied: kiwisolver>=1.3.1 in c:\\users\\bjaen\\venv477\\lib\\site-packages (from matplotlib>=3.7.0->plotnine) (1.4.7)\n",
      "Requirement already satisfied: packaging>=20.0 in c:\\users\\bjaen\\venv477\\lib\\site-packages (from matplotlib>=3.7.0->plotnine) (24.1)\n",
      "Requirement already satisfied: pillow>=8 in c:\\users\\bjaen\\venv477\\lib\\site-packages (from matplotlib>=3.7.0->plotnine) (10.4.0)\n",
      "Requirement already satisfied: pyparsing>=2.3.1 in c:\\users\\bjaen\\venv477\\lib\\site-packages (from matplotlib>=3.7.0->plotnine) (3.1.4)\n",
      "Requirement already satisfied: python-dateutil>=2.7 in c:\\users\\bjaen\\venv477\\lib\\site-packages (from matplotlib>=3.7.0->plotnine) (2.9.0.post0)\n",
      "Requirement already satisfied: tzdata in c:\\users\\bjaen\\venv477\\lib\\site-packages (from mizani~=0.11.0->plotnine) (2024.1)\n",
      "Requirement already satisfied: pytz>=2020.1 in c:\\users\\bjaen\\venv477\\lib\\site-packages (from pandas<3.0.0,>=2.1.0->plotnine) (2024.2)\n",
      "Requirement already satisfied: patsy>=0.5.6 in c:\\users\\bjaen\\venv477\\lib\\site-packages (from statsmodels>=0.14.0->plotnine) (0.5.6)\n",
      "Requirement already satisfied: six in c:\\users\\bjaen\\venv477\\lib\\site-packages (from patsy>=0.5.6->statsmodels>=0.14.0->plotnine) (1.16.0)\n"
     ]
    }
   ],
   "source": [
    "pip install plotnine"
   ]
  },
  {
   "cell_type": "markdown",
   "id": "2cb54eb1-9ca8-4746-aeb4-6e9abebc6400",
   "metadata": {},
   "source": [
    "## 2. The Grammar of Graphics\n",
    "The Grammar of Graphics consists of the following key components:\n",
    "\n",
    "- Data: The data you want to visualize.\n",
    "- Aesthetics (aes): How the data is mapped to visual properties, such as x and y coordinates, color, size, etc.\n",
    "- Geometries (geom): The type of plot, like points, lines, bars, etc.\n",
    "- Facets: Subplots based on the data.\n",
    "- Scales: Control the mapping from data to aesthetic properties.\n",
    "- Coordinate systems: Adjust how data is projected on the plane (Cartesian, rotations, polar, etc.).\n",
    "- Themes: Adjust the non-data elements like background, labels, gridlines, etc."
   ]
  },
  {
   "cell_type": "markdown",
   "id": "4a27eb5d-5757-45f5-bf51-dc378a094b9f",
   "metadata": {},
   "source": [
    "## 3. Creating Your First Plot\n",
    "Let’s begin by creating a simple scatter plot using the famous mtcars dataset. We’ll show how to set up the basic structure and gradually build complexity."
   ]
  },
  {
   "cell_type": "code",
   "execution_count": 19,
   "id": "ceb3338c-3787-42da-aafa-ade153625889",
   "metadata": {},
   "outputs": [
    {
     "name": "stderr",
     "output_type": "stream",
     "text": [
      "C:\\Users\\BJaen\\venv477\\Lib\\site-packages\\plotnine\\ggplot.py:606: PlotnineWarning: Saving 6.4 x 4.8 in image.\n",
      "C:\\Users\\BJaen\\venv477\\Lib\\site-packages\\plotnine\\ggplot.py:607: PlotnineWarning: Filename: basicscatter.png\n"
     ]
    }
   ],
   "source": [
    "# Import required libraries\n",
    "import pandas as pd\n",
    "from plotnine import ggplot, aes, geom_point, labs\n",
    "\n",
    "# Load the mtcars dataset\n",
    "mtcars = pd.read_csv('https://raw.githubusercontent.com/selva86/datasets/master/mtcars.csv')\n",
    "\n",
    "# Create a basic scatter plot\n",
    "p3= (ggplot(mtcars, aes(x='wt', y='mpg')) +\n",
    " geom_point() +\n",
    " labs(title='Scatter Plot of MPG vs Weight',\n",
    "      x='Weight (1000 lbs)',\n",
    "      y='Miles per Gallon'))\n",
    "p3.save(\"basicscatter.png\")"
   ]
  },
  {
   "cell_type": "markdown",
   "id": "8f646b2b-4e35-4105-9b67-3bedac964d6e",
   "metadata": {},
   "source": [
    "## 4. Adding Aesthetic Mappings\n",
    "In the Grammar of Graphics, aesthetics control how data points are represented visually. You can map variables to size, color, shape, and more.\n",
    "\n",
    "**Example:** Color by cyl (number of cylinders)"
   ]
  },
  {
   "cell_type": "code",
   "execution_count": 18,
   "id": "19522dec-d434-4882-b24a-bc59b368833b",
   "metadata": {},
   "outputs": [
    {
     "name": "stderr",
     "output_type": "stream",
     "text": [
      "C:\\Users\\BJaen\\venv477\\Lib\\site-packages\\plotnine\\ggplot.py:606: PlotnineWarning: Saving 6.4 x 4.8 in image.\n",
      "C:\\Users\\BJaen\\venv477\\Lib\\site-packages\\plotnine\\ggplot.py:607: PlotnineWarning: Filename: colorbycyl.png\n"
     ]
    }
   ],
   "source": [
    "p4pt1= (ggplot(mtcars, aes(x='wt', y='mpg', color='factor(cyl)')) +\n",
    " geom_point() +\n",
    " labs(title='MPG vs Weight by Cylinder',\n",
    "      x='Weight (1000 lbs)',\n",
    "      y='Miles per Gallon',\n",
    "      color='Cylinders'))\n",
    "p4pt1.save(\"colorbycyl.png\")"
   ]
  },
  {
   "cell_type": "markdown",
   "id": "7dc11936-c06b-46dd-9f03-8ada8bed8ed8",
   "metadata": {},
   "source": [
    "**Example:** Size by horsepower (hp)"
   ]
  },
  {
   "cell_type": "code",
   "execution_count": 17,
   "id": "548c43cf-26da-41e9-ad53-948b502a7f8a",
   "metadata": {},
   "outputs": [
    {
     "name": "stderr",
     "output_type": "stream",
     "text": [
      "C:\\Users\\BJaen\\venv477\\Lib\\site-packages\\plotnine\\ggplot.py:606: PlotnineWarning: Saving 6.4 x 4.8 in image.\n",
      "C:\\Users\\BJaen\\venv477\\Lib\\site-packages\\plotnine\\ggplot.py:607: PlotnineWarning: Filename: sizehp.png\n"
     ]
    }
   ],
   "source": [
    "p4= (ggplot(mtcars, aes(x='wt', y='mpg', color='factor(cyl)', size='hp')) +\n",
    " geom_point() +\n",
    " labs(title='MPG vs Weight by Cylinder and Horsepower',\n",
    "      x='Weight (1000 lbs)',\n",
    "      y='Miles per Gallon',\n",
    "      color='Cylinders',\n",
    "      size='Horsepower'))\n",
    "p4.save(\"sizehp.png\")"
   ]
  },
  {
   "cell_type": "markdown",
   "id": "63f52327-e828-4bf9-bca6-39d21753ba53",
   "metadata": {},
   "source": [
    "## 5. Geometric Objects\n",
    "geom_* specifies the type of plot. You can create scatter plots, line charts, bar plots, histograms, etc.\n",
    "\n",
    "**Example:** Adding a smooth line (geom_smooth)"
   ]
  },
  {
   "cell_type": "code",
   "execution_count": 15,
   "id": "1a7672b3-565f-4663-9562-07fd51531893",
   "metadata": {},
   "outputs": [
    {
     "name": "stderr",
     "output_type": "stream",
     "text": [
      "C:\\Users\\BJaen\\venv477\\Lib\\site-packages\\plotnine\\ggplot.py:606: PlotnineWarning: Saving 6.4 x 4.8 in image.\n",
      "C:\\Users\\BJaen\\venv477\\Lib\\site-packages\\plotnine\\ggplot.py:607: PlotnineWarning: Filename: smoothline.png\n"
     ]
    }
   ],
   "source": [
    "from plotnine import geom_smooth\n",
    "\n",
    "p5= (ggplot(mtcars, aes(x='wt', y='mpg', color = 'factor(cyl)')) +\n",
    " geom_point() +\n",
    " geom_smooth(method='lm') +  # Linear regression line\n",
    " labs(title='MPG vs Weight with Regression Line',\n",
    "      x='Weight (1000 lbs)',\n",
    "      y='Miles per Gallon'))\n",
    "p5.save(\"smoothline.png\")"
   ]
  },
  {
   "cell_type": "markdown",
   "id": "9efce182-dda6-47fc-9b95-b0283b06b4b5",
   "metadata": {},
   "source": [
    "## 6. Faceting\n",
    "Faceting allows you to split your plot into multiple panels based on a factor.\n",
    "\n",
    "**Example:** Facet by cyl"
   ]
  },
  {
   "cell_type": "code",
   "execution_count": 14,
   "id": "2132f277-d67e-4462-bb96-2a075ae82174",
   "metadata": {},
   "outputs": [
    {
     "name": "stderr",
     "output_type": "stream",
     "text": [
      "C:\\Users\\BJaen\\venv477\\Lib\\site-packages\\plotnine\\ggplot.py:606: PlotnineWarning: Saving 6.4 x 4.8 in image.\n",
      "C:\\Users\\BJaen\\venv477\\Lib\\site-packages\\plotnine\\ggplot.py:607: PlotnineWarning: Filename: Facet.png\n"
     ]
    }
   ],
   "source": [
    "from plotnine import facet_wrap\n",
    "\n",
    "p6= (ggplot(mtcars, aes(x='wt', y='mpg')) +\n",
    " geom_point() +\n",
    " facet_wrap('~cyl') +  # Split into subplots by cylinders\n",
    " labs(title='MPG vs Weight Faceted by Cylinder',\n",
    "      x='Weight (1000 lbs)',\n",
    "      y='Miles per Gallon'))\n",
    "p6.save(\"Facet.png\")"
   ]
  },
  {
   "cell_type": "markdown",
   "id": "f0727e1d-07f6-485a-89df-d080f5062a16",
   "metadata": {},
   "source": [
    "## 7. Customizing Scales\n",
    "Scales control the mapping from data to aesthetic attributes. You can customize scales for color, size, and more.\n",
    "\n",
    "**Example:** Custom Color Scale"
   ]
  },
  {
   "cell_type": "code",
   "execution_count": 13,
   "id": "aeb998cd-da13-4603-b91d-fe953e17fe0f",
   "metadata": {},
   "outputs": [
    {
     "name": "stderr",
     "output_type": "stream",
     "text": [
      "C:\\Users\\BJaen\\venv477\\Lib\\site-packages\\plotnine\\ggplot.py:606: PlotnineWarning: Saving 6.4 x 4.8 in image.\n",
      "C:\\Users\\BJaen\\venv477\\Lib\\site-packages\\plotnine\\ggplot.py:607: PlotnineWarning: Filename: Customcolor.png\n"
     ]
    }
   ],
   "source": [
    "from plotnine import scale_color_manual\n",
    "\n",
    "p7= (ggplot(mtcars, aes(x='wt', y='mpg', color='factor(cyl)')) +\n",
    " geom_point() +\n",
    " scale_color_manual(values=['#1f77b4', '#ff7f0e', '#2ca02c']) +  # Custom colors\n",
    " labs(title='MPG vs Weight with Custom Colors',\n",
    "      x='Weight (1000 lbs)',\n",
    "      y='Miles per Gallon',\n",
    "      color='Cylinders'))\n",
    "p7.save(\"Customcolor.png\")"
   ]
  },
  {
   "cell_type": "markdown",
   "id": "874e4da1-13de-4b31-adcc-6d09fc6e46da",
   "metadata": {},
   "source": [
    "## 8. Flip Coordinates\n",
    "Create a bar plot showing distribution of cylinders\n",
    "\n",
    "**Example:** Fliping coordinates axis"
   ]
  },
  {
   "cell_type": "code",
   "execution_count": 12,
   "id": "653f2070-85be-44bd-9877-5d8429fc965c",
   "metadata": {},
   "outputs": [
    {
     "name": "stderr",
     "output_type": "stream",
     "text": [
      "C:\\Users\\BJaen\\venv477\\Lib\\site-packages\\plotnine\\ggplot.py:606: PlotnineWarning: Saving 6.4 x 4.8 in image.\n",
      "C:\\Users\\BJaen\\venv477\\Lib\\site-packages\\plotnine\\ggplot.py:607: PlotnineWarning: Filename: Flippingcord.png\n"
     ]
    }
   ],
   "source": [
    "import pandas as pd\n",
    "from plotnine import geom_bar, coord_flip\n",
    "\n",
    "# Create a bar plot showing distribution of cylinders\n",
    "p8= (ggplot(mtcars, aes(x='factor(cyl)', fill='factor(cyl)')) +\n",
    " geom_bar(width=1) +\n",
    " coord_flip() +  # Flip coordinates as a simple workaround\n",
    " labs(title='Distribution of Cylinders',\n",
    "      x='Cylinders',\n",
    "      fill='Cylinders'))\n",
    "p8.save(\"Flippingcord.png\")"
   ]
  },
  {
   "cell_type": "markdown",
   "id": "a26a21d9-33a2-441b-850c-65338d135d68",
   "metadata": {},
   "source": [
    "## 9. Themes\n",
    "Themes allow you to adjust the non-data aspects of the plot, such as background, axis labels, and gridlines.\n",
    "\n",
    "**Example:** Apply a Minimal Theme"
   ]
  },
  {
   "cell_type": "code",
   "execution_count": 10,
   "id": "cd93148d-1ad7-4318-afc3-c74035a44dd6",
   "metadata": {},
   "outputs": [
    {
     "name": "stderr",
     "output_type": "stream",
     "text": [
      "C:\\Users\\BJaen\\venv477\\Lib\\site-packages\\plotnine\\ggplot.py:606: PlotnineWarning: Saving 6.4 x 4.8 in image.\n",
      "C:\\Users\\BJaen\\venv477\\Lib\\site-packages\\plotnine\\ggplot.py:607: PlotnineWarning: Filename: Minimaltheme.png\n"
     ]
    }
   ],
   "source": [
    "from plotnine import theme_minimal\n",
    "\n",
    "p9= (ggplot(mtcars, aes(x='wt', y='mpg')) +\n",
    " geom_point() +\n",
    " theme_minimal() +  # Minimalistic theme\n",
    " labs(title='MPG vs Weight with Minimal Theme',\n",
    "      x='Weight (1000 lbs)',\n",
    "      y='Miles per Gallon'))\n",
    "p9.save(\"Minimaltheme.png\")"
   ]
  },
  {
   "cell_type": "markdown",
   "id": "489836fc-aa58-4513-b561-2eea09883277",
   "metadata": {},
   "source": [
    "## 10. Saving the Plot\n",
    "You can save your plot using the save method.\n",
    "\n",
    "**Example:** Save the plot"
   ]
  },
  {
   "cell_type": "code",
   "execution_count": 11,
   "id": "72def0ce-91a3-41e1-9eee-fee3ebf7ba78",
   "metadata": {},
   "outputs": [
    {
     "name": "stderr",
     "output_type": "stream",
     "text": [
      "C:\\Users\\BJaen\\venv477\\Lib\\site-packages\\plotnine\\ggplot.py:606: PlotnineWarning: Saving 6.4 x 4.8 in image.\n",
      "C:\\Users\\BJaen\\venv477\\Lib\\site-packages\\plotnine\\ggplot.py:607: PlotnineWarning: Filename: mpg_vs_weight.png\n"
     ]
    }
   ],
   "source": [
    "# Save the plot to a file\n",
    "p = (ggplot(mtcars, aes(x='wt', y='mpg')) +\n",
    "     geom_point() +\n",
    "     labs(title='MPG vs Weight',\n",
    "          x='Weight (1000 lbs)',\n",
    "          y='Miles per Gallon'))\n",
    "\n",
    "p.save(\"mpg_vs_weight.png\")"
   ]
  },
  {
   "cell_type": "code",
   "execution_count": null,
   "id": "3ff6c748-aa8a-4719-b1cc-abc442eb2090",
   "metadata": {},
   "outputs": [],
   "source": []
  }
 ],
 "metadata": {
  "kernelspec": {
   "display_name": "Python 3 (ipykernel)",
   "language": "python",
   "name": "python3"
  },
  "language_info": {
   "codemirror_mode": {
    "name": "ipython",
    "version": 3
   },
   "file_extension": ".py",
   "mimetype": "text/x-python",
   "name": "python",
   "nbconvert_exporter": "python",
   "pygments_lexer": "ipython3",
   "version": "3.12.6"
  }
 },
 "nbformat": 4,
 "nbformat_minor": 5
}
